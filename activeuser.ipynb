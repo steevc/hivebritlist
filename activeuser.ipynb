{
 "cells": [
  {
   "cell_type": "markdown",
   "metadata": {},
   "source": [
    "Todo:\n",
    "* Chart of account age. Show how many newbies - done\n",
    "* Chart of account size -done\n",
    "* Hide compromised accounts - done\n",
    "* 6/10/23 Use SQL to check for active"
   ]
  },
  {
   "cell_type": "code",
   "execution_count": 1,
   "metadata": {},
   "outputs": [],
   "source": [
    "# Build a list of active users suitable for a Hive post\n",
    "# Loads users from file users.txt. Lines starting with R are regions\n",
    "\n",
    "from datetime import datetime, timedelta, date, timedelta\n",
    "from beem import Hive\n",
    "from beem.account import Account\n",
    "from beem.amount import Amount\n",
    "from beem.comment import Comment\n",
    "from beem.exceptions import ContentDoesNotExistsException\n",
    "from beem.instance import set_shared_blockchain_instance\n",
    "import matplotlib.pyplot as plt\n",
    "from matplotlib.figure import Figure\n",
    "from matplotlib.offsetbox import OffsetImage, AnnotationBbox\n",
    "import pyodbc\n",
    "import pandas as pd"
   ]
  },
  {
   "cell_type": "code",
   "execution_count": 2,
   "metadata": {},
   "outputs": [],
   "source": [
    "with open('pw.txt') as f:\n",
    "    for l in f:\n",
    "        uname, pw = l.split()\n",
    "\n",
    "cnxn_str = (\"Driver={ODBC Driver 17 for SQL Server};\"\n",
    "            \"Server=vip.hivesql.io;\"\n",
    "            \"Database=DBHive;\"\n",
    "            f\"UID={uname};\"\n",
    "            f\"PWD={pw};\")\n",
    "cnxn = pyodbc.connect(cnxn_str)"
   ]
  },
  {
   "cell_type": "code",
   "execution_count": 3,
   "metadata": {},
   "outputs": [],
   "source": [
    "hive = Hive(node=['https://anyx.io'])#https://rpc.ausbit.dev','https://api.deathwing.me', 'https://api.hive.blog'])\n",
    "set_shared_blockchain_instance(hive)\n",
    "stop = datetime.utcnow() - timedelta(days=31) # Checks last month\n",
    "stopstr = stop.strftime('%Y-%m-%d')\n",
    "fullstop = datetime.utcnow() - timedelta(days=365) # Checks last year\n",
    "sqlfromdate = (date.today()-timedelta(days=365)).strftime('%Y-%m-%d')\n",
    "sqlmonth = (date.today()-timedelta(days=31)).strftime('%Y-%m-%d')\n",
    "#print(sqlfromdate)"
   ]
  },
  {
   "cell_type": "code",
   "execution_count": 4,
   "metadata": {},
   "outputs": [],
   "source": [
    "hacked = []\n",
    "with open('steemengineteam_group.txt','r') as f:\n",
    "    for l in f:\n",
    "        hacked.append(l.strip())"
   ]
  },
  {
   "cell_type": "code",
   "execution_count": 5,
   "metadata": {},
   "outputs": [],
   "source": [
    "wits = []\n",
    "def check_witness(user):\n",
    "    global wits\n",
    "    iswit = len(pd.read_sql(f\"\"\"select name, w.last_hbd_exchange_update\n",
    "                from witnesses w\n",
    "                where w.last_hbd_exchange_update > '{sqlmonth}'\n",
    "                  and w.name='{user}'\"\"\", cnxn))\n",
    "    if iswit:\n",
    "        wits.append(f'@{user}')"
   ]
  },
  {
   "cell_type": "code",
   "execution_count": 6,
   "metadata": {},
   "outputs": [],
   "source": [
    "def useractive(user):\n",
    "    # Work back looking for last post/comment or vote\n",
    "    acc = Account(user)#, blockchain_instance=hive)\n",
    "    voted = commented = activeyear = False\n",
    "\n",
    "    activeyear = False\n",
    "    for a in acc.history_reverse(stop=fullstop, only_ops=[\"vote\", \n",
    "                                                  \"comment\"]):\n",
    "        activeyear = True\n",
    "        if a['timestamp'][:10] >= stopstr:\n",
    "            if a[\"type\"] == \"vote\":\n",
    "                voted = True\n",
    "            if a[\"author\"] == user:\n",
    "                if a[\"type\"] == \"comment\":\n",
    "                    commented = True\n",
    "                    break # Don't need to check if they voted as well\n",
    "        else:\n",
    "            break\n",
    "    return (voted, commented, activeyear)\n",
    "\n",
    "def useractivex(user, sql=True):\n",
    "    # Work back looking for last post/comment or vote\n",
    "    acc = Account(user)#, blockchain_instance=hive)\n",
    "    voted = commented = activeyear = False\n",
    "\n",
    "    if not sql and not (voted or commented):\n",
    "        activeyear = False\n",
    "        for a in acc.history_reverse(stop=fullstop, only_ops=[\"vote\", \n",
    "                                                      \"comment\"]):\n",
    "            activeyear = True\n",
    "            break\n",
    "\n",
    "    if False:\n",
    "        r = pd.read_sql(f\"\"\"select count(*) as count\n",
    "                from Accounts a\n",
    "                where a.name = '{user}'\n",
    "                    and (a.last_vote_time  >= '{sqlfromdate}' or a.last_post  >= '{sqlfromdate}')\n",
    "                    \"\"\", cnxn)\n",
    "        for i, l in r.iterrows():\n",
    "            activeyear = l['count'] > 0\n",
    "            break\n",
    "\n",
    "    if sql:\n",
    "        r = pd.read_sql(f\"\"\"select a.last_vote_time, a.last_post\n",
    "                from Accounts a\n",
    "                where a.name = '{user}'\n",
    "                    \"\"\", cnxn)\n",
    "        for i, l in r.iterrows():\n",
    "            #print(l['last_vote_time'], l['last_post'])\n",
    "            activeyear = str(l['last_vote_time']) >= sqlfromdate or str(l['last_post']) >= sqlfromdate\n",
    "            if str(l['last_post']) >= sqlmonth:\n",
    "                commented = True\n",
    "            elif str(l['last_vote_time']) >= sqlmonth:\n",
    "                voted = True\n",
    "            break\n",
    "\n",
    "            \n",
    "    if False and activeyear:\n",
    "        for a in acc.history_reverse(stop=stop, only_ops=[\"vote\", \n",
    "                                                          \"comment\"]):\n",
    "            if a[\"type\"] == \"vote\":\n",
    "                voted = True\n",
    "            if a[\"author\"] == user:\n",
    "                if a[\"type\"] == \"comment\":\n",
    "                    commented = True\n",
    "                    break # Don't need to check if they voted as well\n",
    "\n",
    "    return (voted, commented, activeyear)"
   ]
  },
  {
   "cell_type": "code",
   "execution_count": 7,
   "metadata": {},
   "outputs": [],
   "source": [
    "def output_region(region, active, voting, inactive):\n",
    "    if region != None:\n",
    "        act, voter, inact = len(active), len(voting), len(inactive)\n",
    "        print(f'## {region} ({act}/{voter}/{inact})')\n",
    "        if region == 'Anonymous':\n",
    "            print('Some people ask not to be listed, but they will still be counted')\n",
    "            print()\n",
    "        else:\n",
    "            if act:\n",
    "                print('Posting: @'+ (', @'.join(sorted(active))))\n",
    "                print()\n",
    "            if voter:\n",
    "                print('Voting: @'+ (', @'.join(sorted(voting))))\n",
    "                print()\n",
    "            if inact:\n",
    "                print('Inactive: @'+ (', @'.join(sorted(inactive))))\n",
    "                print()"
   ]
  },
  {
   "cell_type": "code",
   "execution_count": 8,
   "metadata": {
    "scrolled": true
   },
   "outputs": [
    {
     "name": "stdout",
     "output_type": "stream",
     "text": [
      "## London and the South East (64/42/39)\n",
      "Posting: @adetorrent (London), @alonicus (Hampshire), @andy4475 (Woking @andy-jahm @andy-vibes @andy-cine), @anna-newkey (Cambridgeshire @steve.and.anke), @archatlas (Shoreditch), @assassyn (Reading), @awah, @basilmarples (Norwich), @benthomaswwd (Northampton @heartbeatonhive @benthomasuk @pulsation @pfsonhive), @benwesterham (Northamptonshire), @blockchainfpl (Eastbourne @the-gorilla @fplcanary), @bombaycrypto (London), @cezary-io, @charliesmith11 (Hampshire), @chris-uk (Norwich), @cryptogee, @dannyshine, @davidthompson57 (West Sussex), @devosdevosi (London), @donatello, @dubble (London), @edenmichelle, @elmerlin (London @liketu), @elmpride (London), @gillianpearce (Brighton), @goforma (London), @greenjhon (London), @greensmile, @has-k (London), @imfarhad, @kaazoom (East Sussex), @maneco64, @mcgregoragri (Hampshire), @mcsamm (Milton Keynes), @mhel (London), @mightyrocklee (Bedfordshire @heruvim1978), @molometer (@mopal London), @monivis (Chertsey), @nicklewis (Berkshire), @notaboutme, @oliveotamz (London), @purplesinger (Bedfordshire), @pvmihalache (Bedford), @queenoftheworld, @raymondspeaks, @revisesociology, @risingstargame (@atomcollector @juxtamusic @jux), @robbieallenart, @samsmith1971, @sazzler, @sergiomendes (@thesassysergio), @spectrumecons, @stav (Norfolk), @steevc (Bedfordshire @tenkminnows @swing47), @stevermac1966 (Crystal Palace), @stickupboys (Brighton @stickupcurator @stickupcash @subcoin), @stickupmusic (Brighton), @stormkeepergu (East London @stormkeepersmdk), @talesfrmthecrypt, @tdctunes (London), @teooo (Brighton), @tonybad (London), @trader-77 (London), @ura-soul (Norfolk or elsewhere)\n",
      "\n",
      "Voting: @audiohive-me (@riverstage), @bellou61 (Brighton), @bleepcoin, @blockchainyouth, @cryptosneeze, @daniellemurray (Herts @radioliquorice), @dashfit, @digna, @dunsky (London), @ezzy, @greatvideos, @holisticmom, @icepee, @ifeherart (London), @immarojas, @jgiordi (London), @kabir88, @liverehab, @lloyddavis (@steemcampuk @lloyd-social), @matildamoment, @mattniblock, @ministickupboy (Brighton), @nakedverse, @nanzo-scoop, @nicolcron, @pepskaram (London), @pizzadalek, @rafique, @redrica, @reviewed, @richardslater (Brighton), @rmsbodybuilding, @slayerkm, @stickchumpion, @stickupofficial1 (Brighton), @stimp1024, @theessexfunko (Essex), @tricki, @trippymane, @wilfredn, @winkandwoo, @zoltarian\n",
      "\n",
      "Inactive: @adamaslam, @bboxonhive (Northamptonshire), @beccss (London), @bettymorgan (London), @biggmusic (Brighton), @breadcentric (Bedfordshire), @brotherbhunru (St. Albans), @bxbridal (Watford), @carvalhochris (London), @chrinnox (Londom), @d3p0, @daine-cherry, @davvvespr (London), @egilles (London), @eigeneggi (London), @frostdrop (Hampshire), @greendecoreuk (London), @jasonfarrelll (London), @jaxsonmurph, @jimwenda (London), @karwol (London), @knelstrom, @kph (Ipswich), @lifeofbrownshuga (London), @maryanamurat (London), @michealclark (London), @neilxg (London), @nickyhavey, @onalazyday (London), @philsaatchi (Brighton), @reviewer28 (London), @richlyblk (Shoreditch), @sally-notbright (Kent), @sepehrheidarian (London), @steve-o2023, @sudeginsiu (Brighton), @thecogent (London), @todayslight (Bedfordshire @roaminglewis), @wrobellek (Oxford)\n",
      "\n",
      "## The Midlands (18/7/12)\n",
      "Posting: @alicjavfs (Birmingham), @article61, @bbphotography (Lincoln), @beautifulbullies (Nottingham), @belemo (Nottingham), @dannewton (@earthsea), @dickturpin, @ellenripley, @fastchrisuk (Nottinghamshire), @gribbles, @jin-out (Birmingham), @leighscotford, @neopch, @shanibeer (@susie-saver Leicester), @shmoogleosukami (Lincolnshire), @snowboarderpete (North Lincolnshire), @sssgroupco (Nottinghamshire), @wolfofnostreet (Nottingham)\n",
      "\n",
      "Voting: @kryptoe, @michelle.gent (Sherwood Forest), @mscleaning (Birmingham), @rimicane, @skaarl, @tamiapt6, @zeeshannaqvi72\n",
      "\n",
      "Inactive: @awakingelements, @bettynoir, @dawnsart, @fizogphotography, @grottbags (Northamptonshire), @levelcompeteuk (Nottingham), @redfeend (Lincolnshire), @renaessanceman, @rthelly, @s0u1 (Nottinghamshire), @unkidrik (Lincolnshire), @vanbliss (Northamptonshire)\n",
      "\n",
      "## The South West (11/9/8)\n",
      "Posting: @diveratt, @dontcare89 (Newquay), @kathrynkw (Somerset), @killerkev (Bristol), @livinguktaiwan (@lut-studio), @nockzonk, @pompeylad (South Coast), @riverflows (Somerset), @stuartcturnbull (Cornwall), @theworldaroundme, @ukbitcoinmaster\n",
      "\n",
      "Voting: @countrysid (Somerset), @cubapl (Bristol), @davidlionfish (Bristol), @grizzle, @jimbobbill, @sharpshot, @stevienics (Truro), @thomaskatan, @wolven-znz\n",
      "\n",
      "Inactive: @blade7 (Cornwall), @francesleader (Dorset), @groovy828 (Cornwall), @leafculture (Exeter), @newtonclassics, @nurseflo (Bath), @perceptualflaws, @snakelicker (Cornwall)\n",
      "\n",
      "## The North (17/20/21)\n",
      "Posting: @alessandrawhite (USA and Leeds), @ashtv (Yorkshire), @bingbabe, @chisdealhd (Newcastle Upon Tyne @alloyxuast @thencsshifters @chisfund @alloyxuastcur @chisuploads), @dadspardan, @darrenflinders (Sheffield @dazzler75), @demotruk (Isle of Man), @gingenetwork (Scunthorpe), @inksurgeon (Sheffield), @karenb54, @keithtaylor (Shipley Yorkshire), @onw (@b8l), @planetauto (Lancashire), @raj808 (Liverpool), @slobberchops, @teamhumble, @youloseagain (Yorkshire)\n",
      "\n",
      "Voting: @ambrosechappel (Southport), @artonmysleeve, @c0ff33a (Halifax @whiterosecoffee @teamuksupport), @cryptocurator, @digitaldan, @dismayedworld, @goblinknackers, @jskitty, @lastravage, @llag, @makerhacks (York), @makrotheblack (Liverpool), @mattbrown.art (Isle of Man), @pcste, @richgaynor, @socialmediaseo, @someguy123, @steddyman, @stevenwood, @yunnie (Isle of Man)\n",
      "\n",
      "Inactive: @alanwood (Yorkshire), @bobbylewis2002 (Rotherham), @davidwilson01 (Manchester), @fabrications (Sheffield), @iamdarrenclaxton (Derbyshire @darrenclaxton @mrbloom), @introvert-dime, @johnmatthias (Sheffield), @jphamer1, @leetodd, @mckeever, @oliviaava (Manchester), @osohotwater (Gateshead), @paritae (Newcastle), @powertherm (Sheffield), @rob-c (Heywood Greater Manchester), @sam1965uk, @sisygoboom, @streetwize (Bradford), @thebudfather (Stockport), @viajeracebuana (Berwick-Upon-Tweed), @vibeof100monkeys (Lancashire)\n",
      "\n",
      "## Scotland (10/12/5)\n",
      "Posting: @actaylor (Edinburgh), @beardoin, @camuel (@acousticguitar), @eveningart (Orkney), @hoosie (Edinburgh), @joshuaslane, @kevmcc, @meesterboom (@b00m), @slothlydoesit (Edinburgh @slothbuzzcurator @slothbuzz @sloth.buzz @slothburn ), @tengolotodo (@tengogaming @tengolotodo.leo)\n",
      "\n",
      "Voting: @acidtiger, @agrestic, @barge (@krunkypuram), @btcvenom, @cadawg, @fiftysixnorth, @howiemac, @myskye, @natubat, @rafalforeigner, @sc0tsman (Fife), @wisbeech\n",
      "\n",
      "Inactive: @celticheartbeat (@jubei333), @cottonlazarus (Edinburgh), @danaidhbee, @gguy773, @shannar (Eyemouth)\n",
      "\n",
      "## Wales (4/4/8)\n",
      "Posting: @cassi, @grindle, @pumpkinsandcats, @welshstacker\n",
      "\n",
      "Voting: @gazbaz4000, @nozzy, @stevelivingston, @theturtleproject\n",
      "\n",
      "Inactive: @alishas, @decourceys (Cardiff), @jonboka, @louisthomas, @newlifeninja, @p-props, @realitymaster (Swansea), @ruckmesideways\n",
      "\n",
      "## Northern Ireland (3/0/2)\n",
      "Posting: @enzibatavia, @silverstackeruk, @strega.azure\n",
      "\n",
      "Inactive: @besold, @northernheretic\n",
      "\n",
      "## Somewhere in the UK... (23/40/31)\n",
      "Posting: @alzee, @artysteps, @brofund (@brofund-1up), @brucegryllis, @candy49, @charliesmith11, @collinz, @danwhodoesart, @ddsexyauto, @fantagira, @frugal-fun, @heartsofoakuk (England), @jmehta, @kelly25639, @kirhyip, @learningpages, @millycf1976, @nockzonk, @royalestones, @scubahead, @thedeltron (England), @triority, @vtravels\n",
      "\n",
      "Voting: @anarchojeweler, @blue.panda, @brianhphotos, @britcoins (England and SE Asia), @brothershield, @cryptosneeze, @cynicalcake, @damianjayclay, @english-ant, @eternalsuccess, @filmmaking4hive (England), @haitch, @hive.curation, @hopehuggs, @iansart, @imbartley, @imbritish, @johngreenfield, @kennybobs, @lefty619, @marcusbraeburn, @music-beatcz, @ninjakitten, @nooblogger, @owenwat, @realjohnaziz, @rmcaesthetics (England), @rokasimir, @steemboat-steve, @stephyymullen, @stevieboyes, @stickupfilm, @tazbaz, @tggr.trb, @tkolpaczek, @tobias-g, @tomatom, @trading-tokens (England), @utopia-hope (England), @webdeals\n",
      "\n",
      "Inactive: @alheath, @amadea, @amidlifecrypto, @anarcodave, @b1tm31st3r, @basejumper (@bitcoinbeast), @bigjammin (England), @bokarecords, @british-bulldog, @clivemartin, @coincerberus, @feralblowfish, @forbesdav, @foundabargain, @freespiritwriter, @goldstreet, @gonzo, @immigrationlaw1, @incojim, @lordavatarii, @mumshies, @platinum-blue, @primaudia, @quirk-it, @remystar93, @rogeredwards, @sirens-lust, @sparkyontherum (@sparkyontherun), @sterlingux, @thencsshifters, @tommyrobinson\n",
      "\n"
     ]
    },
    {
     "name": "stdout",
     "output_type": "stream",
     "text": [
      "## Anonymous (2/0/0)\n",
      "Some people ask not to be listed, but they will still be counted\n",
      "\n",
      "## Expats (23/6/9)\n",
      "Posting: @abh12345 (Spain), @adambarratt (@abtv Spain), @atma.love (Bulgaria), @chewsk1 (Gibraltar), @cryptoandcoffee (South Africa), @ctrpch (Australia), @dmcamera (Florida USA), @eco-alex (Planet Earth), @felt.buzz (France), @hadrianwild (Thailand), @hirohurl (Japan), @mangomayhem (Philippines), @minismallholding (Australia), @mobbs (China), @momogrow (Netherlands), @namiks (Armenia), @nathen007 (@leedsunited Thailand), @samstonehill (France), @sebcam (USA), @starkerz (Cyberspace), @sunsethunter (New Zealand), @tggr (Singapore), @trucklife-family (The Earth)\n",
      "\n",
      "Voting: @accelerator (@rycharde Thailand), @biggypauls (Philippines), @eftnow (Spain), @elricmoonslayer (Spain), @juliamulcahy (Ireland), @willmington-w (Philippines/UK)\n",
      "\n",
      "Inactive: @abdex9, @annasworddancer (Mallorca), @cristina-zac (Spain), @jeffandhisguitar (SE Asia), @justinchicken (Japan), @newtonclassics (Thailand), @ripebanana (Trinidad and Tobago), @shepz1 (Poland), @wanderlust7 (Canada)\n",
      "\n",
      "## Totals\n",
      "**Total active** UK: 152, Expats: 23\n",
      "\n",
      "# Charts\n",
      "This shows the numbers in each category of the active and voting accounts. Level is based on 'VESTS' with Minnow equating to a million VESTS.\n",
      "\n",
      "|Level|Number|Threshold|\n",
      "|-|-|-|\n",
      "|Redfish | 148||\n",
      "|Minnow  | 102|     577.68 HP|\n",
      "|Dolphin |  48|    5776.77 HP|\n",
      "|Orca    |  16|   57767.73 HP|\n",
      "|Whale   |   1|  577677.34 HP|\n",
      "\n",
      "This shows when people joined Hive. The last few months are shown separately to make any changes obvious.\n",
      "|Age|Number|\n",
      "|-|-|\n",
      "|1 month|4|\n",
      "|2 months|1|\n",
      "|3 months|2|\n",
      "|Year|7|\n",
      "|Older|301|\n",
      "\n",
      "# UK Witnesses\n",
      "Please support your local witnesses:\n",
      "@liketu, @ura-soul, @shmoogleosukami, @c0ff33a, @whiterosecoffee, @chisdealhd, @someguy123, @cadawg, @brofund, @ctrpch\n"
     ]
    }
   ],
   "source": [
    "with open('users.txt', 'r') as f:\n",
    "    active = []\n",
    "    inactive = []\n",
    "    voting =[]\n",
    "    region = None\n",
    "    now = datetime.utcnow() \n",
    "    total_active = 0\n",
    "    fish = {'Redfish': 0, 'Minnow':0, 'Dolphin':0, 'Orca':0, 'Whale':0}\n",
    "    age = {'1 month':0, '2 months':0, '3 months':0, 'Year':0, 'Older':0}\n",
    "    for l in f:\n",
    "        fields = l.split(',')\n",
    "        if fields[0] == 'R':\n",
    "            output_region(region, active, voting, inactive)\n",
    "            total_active += len(active) # Will not count the last region, but exclude expats from total anyway\n",
    "            region = fields[1].strip()\n",
    "            active, voting, inactive = [], [], []\n",
    "        else:\n",
    "            # Witness check\n",
    "            unames = []\n",
    "            if '@' in l:\n",
    "                unames.append(l.split()[0])\n",
    "                l = l[l.find('@'):]\n",
    "                unames += l.strip().replace('(', '').replace(')', '').replace('@', '').split()\n",
    "            elif '(' in l:\n",
    "                unames.append(l.split()[0])\n",
    "            else:\n",
    "                unames.append(l.strip())\n",
    "            for uu in unames:\n",
    "                check_witness(uu)\n",
    "                \n",
    "            name = dname = fields[0].strip()\n",
    "            if '(' in name:\n",
    "                dname = name\n",
    "                name = name[:(name.find('(')-1)]\n",
    "            if not name in hacked:\n",
    "                voter, commenter, activeyear = useractivex(name)\n",
    "                if commenter:\n",
    "                    active.append(dname)\n",
    "                elif voter:\n",
    "                    voting.append(dname)\n",
    "                elif activeyear: # Inactive\n",
    "                    inactive.append(dname)\n",
    "                if commenter or voter:\n",
    "                    acc = Account(name)\n",
    "                    hp = acc.balances['available'][2].amount_decimal\n",
    "                    if hp > 1E9:\n",
    "                        fish['Whale'] += 1\n",
    "                    elif hp > 1E8:\n",
    "                        fish['Orca'] += 1\n",
    "                    elif hp > 1E7:\n",
    "                        fish['Dolphin'] += 1\n",
    "                    elif hp > 1E6:\n",
    "                        fish['Minnow'] += 1\n",
    "                    else:\n",
    "                        fish['Redfish'] += 1\n",
    "\n",
    "                    for i in acc.get_account_history(0,1):\n",
    "                        created = cr = datetime.strptime(i['timestamp'], '%Y-%m-%dT%H:%M:%S')\n",
    "                    accage = (now - created).days\n",
    "                    if accage > 365:\n",
    "                        age['Older'] += 1\n",
    "                    elif accage > 90:\n",
    "                        age['Year'] += 1\n",
    "                    elif accage > 60:\n",
    "                        age['3 months'] += 1\n",
    "                    elif accage > 30:\n",
    "                        age['2 months'] += 1\n",
    "                    else:\n",
    "                        age['1 month'] += 1\n",
    "\n",
    "    output_region(region, active, voting, inactive)\n",
    "    print('## Totals')\n",
    "    print(f'**Total active** UK: {total_active}, Expats: {len(active)}')\n",
    "    print('')\n",
    "    \n",
    "    minnowhp = hive.vests_to_hp(1E6)\n",
    "    print('# Charts')\n",
    "    print(f\"This shows the numbers in each category of the active and voting accounts. Level is based on 'VESTS' with Minnow equating to a million VESTS.\")\n",
    "    print()\n",
    "    print('|Level|Number|Threshold|')\n",
    "    print('|-|-|-|')\n",
    "    for i,f in enumerate(fish):\n",
    "        hp = f'{minnowhp:11.2f} HP' if i > 0 else ''\n",
    "        print(f'|{f:8}|{fish[f]:4}|{hp}|')\n",
    "        if i > 0:\n",
    "            minnowhp *= 10\n",
    "    print()\n",
    "    print('This shows when people joined Hive. The last few months are shown separately to make any changes obvious.')\n",
    "    print('|Age|Number|')\n",
    "    print('|-|-|')\n",
    "    for a in age:\n",
    "        print(f'|{a}|{age[a]}|')\n",
    "    \n",
    "    print('''\n",
    "# UK Witnesses\n",
    "Please support your local witnesses:''')\n",
    "    #If you are unsure who to vote for then you can use my voting proxy.@someguy123, @ura-soul, @cadawg, @whiterosecoffee, @c0ff33a, @chisdealhd, @brofund, @slothbuzz, @assassyn, @shmoogleosukami, @ctrpch''')\n",
    "    print(', '.join(wits))"
   ]
  },
  {
   "cell_type": "code",
   "execution_count": 9,
   "metadata": {},
   "outputs": [
    {
     "name": "stdout",
     "output_type": "stream",
     "text": [
      "{'Redfish': 148, 'Minnow': 102, 'Dolphin': 48, 'Orca': 16, 'Whale': 1}\n"
     ]
    },
    {
     "data": {
      "image/png": "[encoded data removed]",
      "text/plain": [
       "<Figure size 576x432 with 1 Axes>"
      ]
     },
     "metadata": {
      "needs_background": "light"
     },
     "output_type": "display_data"
    }
   ],
   "source": [
    "print(fish)\n",
    "fig, ax = plt.subplots()\n",
    "fig.set_size_inches(8,6)\n",
    "plt.bar(fish.keys(), fish.values(), color=['red','green','blue','black','gray']);1\n",
    "plt.title('Account Levels')\n",
    "ax.grid()"
   ]
  },
  {
   "cell_type": "code",
   "execution_count": 10,
   "metadata": {},
   "outputs": [
    {
     "name": "stdout",
     "output_type": "stream",
     "text": [
      "{'Redfish': 148, 'Minnow': 102, 'Dolphin': 48, 'Orca': 16, 'Whale': 1}\n"
     ]
    },
    {
     "data": {
      "image/png": "[encoded data removed]",
      "text/plain": [
       "<Figure size 576x432 with 1 Axes>"
      ]
     },
     "metadata": {
      "needs_background": "light"
     },
     "output_type": "display_data"
    }
   ],
   "source": [
    "print(fish)\n",
    "x_pos = range(len(fish))\n",
    "\n",
    "fig, ax = plt.subplots()\n",
    "fig.set_size_inches(8,6)\n",
    "color = ['#fab904','#73b8d4','#5d9b2a',\n",
    "         '#d71b1c','#8c9be6']\n",
    "plt.bar(x_pos, fish.values(), color=color)\n",
    "plt.xticks(x_pos, fish.keys(), rotation=0)\n",
    "plt.title('Account Levels')\n",
    "ax.set_ylim(0,max(fish.values())+12)\n",
    "\n",
    "shiftX = 0.52  \n",
    "shiftY = 0.52  \n",
    "arr_img = plt.imread(\"level1.png\")\n",
    "im = OffsetImage(arr_img, zoom=.15)\n",
    "ab1 = AnnotationBbox(im, (x_pos[0]+shiftX,fish['Redfish']+shiftY), box_alignment=(1.1,-0.1),frameon=False)\n",
    "\n",
    "arr_img = plt.imread(\"level2.png\")\n",
    "im = OffsetImage(arr_img, zoom=.15)\n",
    "ab2 = AnnotationBbox(im, (x_pos[1]+shiftX,fish['Minnow']+shiftY), box_alignment=(1.1,-0.1),frameon=False)\n",
    "\n",
    "arr_img = plt.imread(\"level3.png\")\n",
    "im = OffsetImage(arr_img, zoom=.15)\n",
    "ab3 = AnnotationBbox(im, (x_pos[2]+shiftX,fish['Dolphin']+shiftY), box_alignment=(1.1,-0.1),frameon=False)\n",
    "\n",
    "arr_img = plt.imread(\"level4.png\")\n",
    "im = OffsetImage(arr_img, zoom=.15)\n",
    "ab4 = AnnotationBbox(im, (x_pos[3]+shiftX,fish['Orca']+shiftY), box_alignment=(1.1,-0.1),frameon=False)\n",
    "\n",
    "arr_img = plt.imread(\"level5.png\")\n",
    "im = OffsetImage(arr_img, zoom=.15)\n",
    "ab5 = AnnotationBbox(im, (x_pos[4]+shiftX,fish['Whale']+shiftY), box_alignment=(1.1,-0.1),frameon=False)\n",
    "\n",
    "ax.add_artist(ab1)\n",
    "ax.add_artist(ab2)\n",
    "ax.add_artist(ab3)\n",
    "ax.add_artist(ab4)\n",
    "ax.add_artist(ab5)\n",
    "\n",
    "\n",
    "plt.text(x_pos[0],fish['Redfish'],s=fish.get('Redfish'),horizontalalignment='center',verticalalignment='bottom')\n",
    "plt.text(x_pos[1],fish['Minnow'],s=fish.get('Minnow'),horizontalalignment='center',verticalalignment='bottom')\n",
    "plt.text(x_pos[2],fish['Dolphin'],s=fish.get('Dolphin'),horizontalalignment='center',verticalalignment='bottom')\n",
    "plt.text(x_pos[3],fish['Orca'],s=fish.get('Orca'),horizontalalignment='center',verticalalignment='bottom')\n",
    "plt.text(x_pos[4],fish['Whale'],s=fish.get('Whale'),horizontalalignment='center',verticalalignment='bottom')\n",
    "\n",
    "plt.savefig('fish.png')"
   ]
  },
  {
   "cell_type": "code",
   "execution_count": 11,
   "metadata": {},
   "outputs": [
    {
     "name": "stdout",
     "output_type": "stream",
     "text": [
      "{'1 month': 4, '2 months': 1, '3 months': 2, 'Year': 7, 'Older': 301}\n"
     ]
    },
    {
     "data": {
      "image/png": "[encoded data removed]",
      "text/plain": [
       "<Figure size 576x432 with 1 Axes>"
      ]
     },
     "metadata": {
      "needs_background": "light"
     },
     "output_type": "display_data"
    }
   ],
   "source": [
    "print(age)\n",
    "fig, ax = plt.subplots()\n",
    "fig.set_size_inches(8,6)\n",
    "plt.bar(age.keys(), age.values(), color=['red', 'orange', 'green','blue','brown']);\n",
    "plt.title('Account Ages')\n",
    "ax.grid()"
   ]
  },
  {
   "cell_type": "code",
   "execution_count": 12,
   "metadata": {},
   "outputs": [
    {
     "name": "stdout",
     "output_type": "stream",
     "text": [
      "|Level|Number|Stake|\n",
      "|-|-|-|\n",
      "|Redfish | 148||\n",
      "|Minnow  | 102|     577.68 HP|\n",
      "|Dolphin |  48|    5776.77 HP|\n",
      "|Orca    |  16|   57767.73 HP|\n",
      "|Whale   |   1|  577677.34 HP|\n",
      "|Age|Number|\n",
      "|-|-|\n",
      "|1 month|4|\n",
      "|2 months|1|\n",
      "|3 months|2|\n",
      "|Year|7|\n",
      "|Older|301|\n"
     ]
    }
   ],
   "source": [
    "minnowhp = hive.vests_to_hp(1E6)\n",
    "print('|Level|Number|Stake|')\n",
    "print('|-|-|-|')\n",
    "for i,f in enumerate(fish):\n",
    "    hp = f'{minnowhp:11.2f} HP' if i > 0 else ''\n",
    "    print(f'|{f:8}|{fish[f]:4}|{hp}|')\n",
    "    if i > 0:\n",
    "        minnowhp *= 10\n",
    "print('|Age|Number|')\n",
    "print('|-|-|')\n",
    "for a in age:\n",
    "    print(f'|{a}|{age[a]}|')\n"
   ]
  },
  {
   "cell_type": "code",
   "execution_count": null,
   "metadata": {},
   "outputs": [],
   "source": []
  }
 ],
 "metadata": {
  "kernelspec": {
   "display_name": "Python 3",
   "language": "python",
   "name": "python3"
  },
  "language_info": {
   "codemirror_mode": {
    "name": "ipython",
    "version": 3
   },
   "file_extension": ".py",
   "mimetype": "text/x-python",
   "name": "python",
   "nbconvert_exporter": "python",
   "pygments_lexer": "ipython3",
   "version": "3.8.5"
  }
 },
 "nbformat": 4,
 "nbformat_minor": 2
}
