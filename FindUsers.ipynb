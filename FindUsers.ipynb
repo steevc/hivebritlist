{
 "cells": [
  {
   "cell_type": "code",
   "execution_count": 7,
   "metadata": {},
   "outputs": [],
   "source": [
    "# Read users\n",
    "u = []\n",
    "with open('users.txt','r') as f:\n",
    "    for l in f:\n",
    "        if not 'R,' in l:\n",
    "            if '@' in l:\n",
    "                u += l.strip().replace('(', '').replace(')', '').replace('@', '').split()\n",
    "            elif '(' in l:\n",
    "                u.append(l.split()[0])\n",
    "            else:\n",
    "                u.append(l.strip())\n",
    "                \n",
    "hacked = []\n",
    "with open('steemengineteam_group.txt','r') as f:\n",
    "    for l in f:\n",
    "        hacked.append(l.strip())\n",
    "        \n",
    "ignore = []\n",
    "with open('ignore.txt','r') as f:\n",
    "    for l in f:\n",
    "        ignore.append(l.strip().split()[0])\n"
   ]
  },
  {
   "cell_type": "code",
   "execution_count": 2,
   "metadata": {},
   "outputs": [],
   "source": [
    "import pyodbc\n",
    "import pandas as pd\n",
    "import datetime"
   ]
  },
  {
   "cell_type": "code",
   "execution_count": 3,
   "metadata": {},
   "outputs": [],
   "source": [
    "with open('pw.txt') as f:\n",
    "    for l in f:\n",
    "        uname, pw = l.split()\n",
    "\n",
    "cnxn_str = (\"Driver={ODBC Driver 17 for SQL Server};\"\n",
    "            \"Server=vip.hivesql.io;\"\n",
    "            \"Database=DBHive;\"\n",
    "            f\"UID={uname};\"\n",
    "            f\"PWD={pw};\")\n",
    "cnxn = pyodbc.connect(cnxn_str)"
   ]
  },
  {
   "cell_type": "code",
   "execution_count": 4,
   "metadata": {},
   "outputs": [],
   "source": [
    "searches=[\"a.posting_json_metadata not like '%Ukraine%' and a.posting_json_metadata not like'%Bukidnon%' and \"+\n",
    "          \"JSON_VALUE(posting_json_metadata,'$.profile.location') like '%uk%'\",\n",
    "         \"a.posting_json_metadata not like '%new england%' and JSON_VALUE(posting_json_metadata,'$.profile.location') like '%england%'\",\n",
    "         \"JSON_VALUE(posting_json_metadata,'$.profile.location') like '%scotland%'\",\n",
    "          \"JSON_VALUE(posting_json_metadata,'$.profile.location') like '%united kingdom%'\",\n",
    "         \"JSON_VALUE(posting_json_metadata,'$.profile.location') like '%wales%'\",\n",
    "          \"JSON_VALUE(posting_json_metadata,'$.profile.location') like '%u.k.%'\",\n",
    "          \"JSON_VALUE(posting_json_metadata,'$.profile.location') like '%scottish%'\",\n",
    "          \"JSON_VALUE(posting_json_metadata,'$.profile.location') like '%welsh%'\",\n",
    "          \"JSON_VALUE(posting_json_metadata,'$.profile.location') like '%irish%'\",\n",
    "          \"JSON_VALUE(posting_json_metadata,'$.profile.location') like '%london%'\",\n",
    "          \"JSON_VALUE(posting_json_metadata,'$.profile.location') like '%edinburgh%'\",\n",
    "          \"JSON_VALUE(posting_json_metadata,'$.profile.location') like '%glasgow%'\",\n",
    "          \"JSON_VALUE(posting_json_metadata,'$.profile.location') like '%cardiff%'\",\n",
    "          \"JSON_VALUE(posting_json_metadata,'$.profile.location') like '%belfast%'\",\n",
    "          \"a.posting_json_metadata not like '%columbia%' and JSON_VALUE(posting_json_metadata,'$.profile.location') like '%brit%'\",\n",
    "          \"JSON_VALUE(posting_json_metadata,'$.profile.location') like '%northern ireland%'\",\n",
    "          \"JSON_VALUE(posting_json_metadata,'$.profile.location') like '%g.b.%'\",\n",
    "          \"JSON_VALUE(posting_json_metadata,'$.profile.location') like '%gb%'\",\n",
    "          \"JSON_VALUE(posting_json_metadata,'$.profile.location') like '%blighty%'\",\n",
    "          \"JSON_VALUE(posting_json_metadata,'$.profile.location') like '%ulster%'\",\n",
    "          \"JSON_VALUE(posting_json_metadata,'$.profile.location') like '%dover%'\",\n",
    "          \"JSON_VALUE(posting_json_metadata,'$.profile.location') like '%birmingham%' or \"+\n",
    "          \"JSON_VALUE(posting_json_metadata,'$.profile.location') like '%dudley%' or \"+\n",
    "          #\"JSON_VALUE(posting_json_metadata,'$.profile.location') like '%manchester%' or \"+\n",
    "          \"JSON_VALUE(posting_json_metadata,'$.profile.location') like '%chester%' or \"+\n",
    "          \"JSON_VALUE(posting_json_metadata,'$.profile.location') like '%leeds%'\",\n",
    "          \"JSON_VALUE(posting_json_metadata,'$.profile.location') like '%preston%' or \"+\n",
    "          \"JSON_VALUE(posting_json_metadata,'$.profile.location') like '%ripon%' or \"+\n",
    "          \"JSON_VALUE(posting_json_metadata,'$.profile.location') like '%salford%' or \"+\n",
    "          \"JSON_VALUE(posting_json_metadata,'$.profile.location') like '%sheffield%' or \"+\n",
    "          \"JSON_VALUE(posting_json_metadata,'$.profile.location') like '%worksop%' or \"+\n",
    "          \"JSON_VALUE(posting_json_metadata,'$.profile.location') like '%rochdale%' or \"+\n",
    "          \"JSON_VALUE(posting_json_metadata,'$.profile.location') like '%liverpool%' or \"+\n",
    "          \"JSON_VALUE(posting_json_metadata,'$.profile.location') like '%hebrides%' or \"+\n",
    "          \"JSON_VALUE(posting_json_metadata,'$.profile.location') like '%shetland%' or \"+\n",
    "          \"JSON_VALUE(posting_json_metadata,'$.profile.location') like '%wight%' or \"+\n",
    "          \"JSON_VALUE(posting_json_metadata,'$.profile.location') like '%bangor%' or \"+\n",
    "          \"JSON_VALUE(posting_json_metadata,'$.profile.location') like '%bath%' or \"+\n",
    "          \"JSON_VALUE(posting_json_metadata,'$.profile.location') like '%aberdeen%'\",\n",
    "          \"JSON_VALUE(posting_json_metadata,'$.profile.location') like '%armagh%' or \"+\n",
    "          \"JSON_VALUE(posting_json_metadata,'$.profile.location') like '%derry%' or \"+\n",
    "          \"JSON_VALUE(posting_json_metadata,'$.profile.location') like '%newport%' or \"+\n",
    "          \"JSON_VALUE(posting_json_metadata,'$.profile.location') like '%cantebury%' or \"+\n",
    "          \"JSON_VALUE(posting_json_metadata,'$.profile.location') like '%chelmsford%' or \"+\n",
    "          \"JSON_VALUE(posting_json_metadata,'$.profile.location') like '%lincoln%' or \"+\n",
    "         \"JSON_VALUE(posting_json_metadata,'$.profile.location') like '%nott%' or \"+\n",
    "          \"JSON_VALUE(posting_json_metadata,'$.profile.location') like '%luton%' or \"+\n",
    "          \"JSON_VALUE(posting_json_metadata,'$.profile.location') like '%watford%' or \"+\n",
    "          \"JSON_VALUE(posting_json_metadata,'$.profile.location') like '%bradford%' or \"+\n",
    "          \"JSON_VALUE(posting_json_metadata,'$.profile.location') like '%bristol%' or \"+\n",
    "          \"JSON_VALUE(posting_json_metadata,'$.profile.location') like '%newcastle%'\",\n",
    "          \"a.posting_json_metadata not like '%new bedford%' and JSON_VALUE(posting_json_metadata,'$.profile.location') like '%bedford%' or \"+\n",
    "          \"a.posting_json_metadata not like '%pluton%' and JSON_VALUE(posting_json_metadata,'$.profile.location') like '%luton%' or \"+\n",
    "          \"JSON_VALUE(posting_json_metadata,'$.profile.location') like '%northampton%' or \"+\n",
    "          \"JSON_VALUE(posting_json_metadata,'$.profile.location') like '%southampton%' or \"+\n",
    "          \"JSON_VALUE(posting_json_metadata,'$.profile.location') like '%portsmouth%' or \"+\n",
    "          \"JSON_VALUE(posting_json_metadata,'$.profile.location') like '%dundee%' \",\n",
    "          \"JSON_VALUE(posting_json_metadata,'$.profile.location') like '%inverness%' or \"+\n",
    "          \"JSON_VALUE(posting_json_metadata,'$.profile.location') like '%ipswich%' or \"+\n",
    "          \"JSON_VALUE(posting_json_metadata,'$.profile.location') like '%norwich%' or \"+\n",
    "          \"JSON_VALUE(posting_json_metadata,'$.profile.location') like '%southend%' or \"+\n",
    "          \"JSON_VALUE(posting_json_metadata,'$.profile.location') like '%brighton%' or \"+\n",
    "          \"JSON_VALUE(posting_json_metadata,'$.profile.location') like '%slough%' \",\n",
    "          \"JSON_VALUE(posting_json_metadata,'$.profile.location') like '%wolverhampton%' or \"+\n",
    "          \"JSON_VALUE(posting_json_metadata,'$.profile.location') like '%leicester%' or \"+\n",
    "          \"JSON_VALUE(posting_json_metadata,'$.profile.location') like '%cornwall%' or \"+\n",
    "          \"JSON_VALUE(posting_json_metadata,'$.profile.location') like '%devon%' or \"+\n",
    "          \"JSON_VALUE(posting_json_metadata,'$.profile.location') like '%dorset%'  \",\n",
    "          \"JSON_VALUE(posting_json_metadata,'$.profile.location') like '%gloucester%' or \"+\n",
    "          \"JSON_VALUE(posting_json_metadata,'$.profile.location') like '%sussex%' or \"+\n",
    "          \"JSON_VALUE(posting_json_metadata,'$.profile.location') like '%norfolk%' or \"+\n",
    "          \"JSON_VALUE(posting_json_metadata,'$.profile.location') like '%buck%' or \"+\n",
    "          \"JSON_VALUE(posting_json_metadata,'$.profile.location') like '%essex%' or \"+\n",
    "          \"JSON_VALUE(posting_json_metadata,'$.profile.location') like '%suffolk%' \",\n",
    "          \"JSON_VALUE(posting_json_metadata,'$.profile.location') like '%bedford%' or \"+\n",
    "          \"JSON_VALUE(posting_json_metadata,'$.profile.location') like '%rutland%' or \"+\n",
    "          \"JSON_VALUE(posting_json_metadata,'$.profile.location') like '%worcester%' or \"+\n",
    "          \"JSON_VALUE(posting_json_metadata,'$.profile.location') like '%guildford%' or \"+\n",
    "          \"JSON_VALUE(posting_json_metadata,'$.profile.location') like '%reading%' \",\n",
    "          \"JSON_VALUE(posting_json_metadata,'$.profile.location') like '%coventry%' or \"+\n",
    "          \"JSON_VALUE(posting_json_metadata,'$.profile.location') like '%carlisle%' or \"+\n",
    "          \"JSON_VALUE(posting_json_metadata,'$.profile.location') like '%umber%' or \"+\n",
    "          \"JSON_VALUE(posting_json_metadata,'$.profile.location') like '%cambridge%' or \"+\n",
    "          \"JSON_VALUE(posting_json_metadata,'$.profile.location') like '%oxford%' \",\n",
    "          \"JSON_VALUE(posting_json_metadata,'$.profile.location') like '%durham%' or \"+\n",
    "          \"JSON_VALUE(posting_json_metadata,'$.profile.location') like '%derby%' or \"+\n",
    "          \"JSON_VALUE(posting_json_metadata,'$.profile.location') like '%fordshire%' or \"+\n",
    "          \"JSON_VALUE(posting_json_metadata,'$.profile.location') like '%estershire%' or \"+\n",
    "          \"JSON_VALUE(posting_json_metadata,'$.profile.location') like '%warwick%'  \",\n",
    "          \"JSON_VALUE(posting_json_metadata,'$.profile.location') like '%worcester%' or \"+\n",
    "          \"JSON_VALUE(posting_json_metadata,'$.profile.location') like '%cumbria%' or \"+\n",
    "          \"JSON_VALUE(posting_json_metadata,'$.profile.location') like '%lancas%' or \"+\n",
    "          \"JSON_VALUE(posting_json_metadata,'$.profile.location') like '%stafford%' or \"+\n",
    "          \"JSON_VALUE(posting_json_metadata,'$.profile.location') like '%somerset%' or \"+\n",
    "          \"JSON_VALUE(posting_json_metadata,'$.profile.location') like '%peterborough%'  \",\n",
    "          \"JSON_VALUE(posting_json_metadata,'$.profile.location') like '%midlands%' or \"+\n",
    "          \"JSON_VALUE(posting_json_metadata,'$.profile.location') like '%west country%' or \"+\n",
    "          \"JSON_VALUE(posting_json_metadata,'$.profile.location') like '%swansea%' or \"+\n",
    "          \"JSON_VALUE(posting_json_metadata,'$.profile.location') like '%newquay%' or \"+\n",
    "          \"JSON_VALUE(posting_json_metadata,'$.profile.location') like '%stoke%' or \"+\n",
    "          \"JSON_VALUE(posting_json_metadata,'$.profile.location') like '%huddersfield%' \",\n",
    "          \"JSON_VALUE(posting_json_metadata,'$.profile.location') like '%burnley%' \",\n",
    "          \"a.posting_json_metadata not like '%albania%' and JSON_VALUE(posting_json_metadata,'$.profile.location') like '%alba%' \",\n",
    "          \"JSON_VALUE(posting_json_metadata,'$.profile.location') like '%wakefield%' or \"+\n",
    "          \n",
    "          \"a.posting_json_metadata not like '%kentucky%' and a.posting_json_metadata not like '%tashkent%' and JSON_VALUE(posting_json_metadata,'$.profile.location') like '%kent%' or \"+\n",
    "          \"a.posting_json_metadata not like '%new plymouth%' and JSON_VALUE(posting_json_metadata,'$.profile.location') like '%plymouth%' or \"+\n",
    "          \"JSON_VALUE(posting_json_metadata,'$.profile.location') like '%leicester%'\", \n",
    "          \"a.posting_json_metadata not like '%new york%' and JSON_VALUE(posting_json_metadata,'$.profile.location') like '%york%'\",\n",
    "          \"JSON_VALUE(posting_json_metadata,'$.profile.location') like '%channel%'\",\n",
    "          \n",
    "        \"JSON_VALUE(posting_json_metadata,'$.profile.location') like '%letchworth%' or \"+\n",
    "        \"JSON_VALUE(posting_json_metadata,'$.profile.location') like '%hitchin%' or \"+\n",
    "        \"JSON_VALUE(posting_json_metadata,'$.profile.location') like '%stotfold%' or \"+\n",
    "        \"JSON_VALUE(posting_json_metadata,'$.profile.location') like '%stevenage%' or \"+\n",
    "        \"JSON_VALUE(posting_json_metadata,'$.profile.location') like '%baldock%' \",\n",
    "        \"JSON_VALUE(posting_json_metadata,'$.profile.location') like '%biggleswade%' or \" +\n",
    "        \"JSON_VALUE(posting_json_metadata,'$.profile.location') like '%sandy%' or \" +\n",
    "        \"JSON_VALUE(posting_json_metadata,'$.profile.location') like '%albans%' or \" +\n",
    "        \"JSON_VALUE(posting_json_metadata,'$.profile.location') like '%henlow%' or \"+\n",
    "        \"JSON_VALUE(posting_json_metadata,'$.profile.location') like '%shefford%' or \"+\n",
    "        \"JSON_VALUE(posting_json_metadata,'$.profile.location') like '%arlesey%'\"\n",
    "                                       ]"
   ]
  },
  {
   "cell_type": "code",
   "execution_count": 9,
   "metadata": {
    "scrolled": false
   },
   "outputs": [
    {
     "name": "stdout",
     "output_type": "stream",
     "text": [
      "Post: 2024-03-28 Vote: 1970-01-01 unhappygirl from london\n",
      "Post: 2024-03-09 Vote: 1970-01-01 emmysill from London\n"
     ]
    }
   ],
   "source": [
    "fromdate = (datetime.date.today()-datetime.timedelta(days=31)).strftime('%Y-%m-%d')\n",
    "#print(f'From {fromdate}')\n",
    "fnd=[]\n",
    "for s in searches:\n",
    "    r = pd.read_sql(f\"\"\"select a.name, a.post_count, JSON_VALUE(posting_json_metadata,'$.profile.location') as loc,\n",
    "                case when a.json_metadata like '%location%' then JSON_VALUE(json_metadata,'$.profile.location')\n",
    "                else 'none' end as jm , a.last_post, a.last_vote_time\n",
    "                from Accounts a\n",
    "                where a.posting_json_metadata like '%\"location\":%' and ({s})\n",
    "                    and (a.last_vote_time  >= '{fromdate}'\n",
    "                    or a.last_post >= '{fromdate}')\"\"\", cnxn)\n",
    "    for i, l in r.iterrows(): \n",
    "        n= l['name']\n",
    "        if n not in u and 'Phuket' not in l['loc'] and n not in ignore and n not in fnd:\n",
    "            print(f\"Post: {str(l['last_post'])[:10]} Vote: {str(l['last_vote_time'])[:10]} {l['name']} from {l['loc']}\")\n",
    "            fnd.append(n)"
   ]
  },
  {
   "cell_type": "code",
   "execution_count": 6,
   "metadata": {
    "scrolled": true
   },
   "outputs": [
    {
     "ename": "KeyboardInterrupt",
     "evalue": "",
     "output_type": "error",
     "traceback": [
      "\u001b[0;31m---------------------------------------------------------------------------\u001b[0m",
      "\u001b[0;31mKeyboardInterrupt\u001b[0m                         Traceback (most recent call last)",
      "\u001b[0;32m<ipython-input-6-b3313f8b0990>\u001b[0m in \u001b[0;36m<module>\u001b[0;34m\u001b[0m\n\u001b[1;32m     11\u001b[0m \u001b[0mchain\u001b[0m \u001b[0;34m=\u001b[0m \u001b[0mBlockchain\u001b[0m\u001b[0;34m(\u001b[0m\u001b[0;34m)\u001b[0m\u001b[0;34m\u001b[0m\u001b[0;34m\u001b[0m\u001b[0m\n\u001b[1;32m     12\u001b[0m \u001b[0mcurrent_num\u001b[0m \u001b[0;34m=\u001b[0m \u001b[0mchain\u001b[0m\u001b[0;34m.\u001b[0m\u001b[0mget_current_block_num\u001b[0m\u001b[0;34m(\u001b[0m\u001b[0;34m)\u001b[0m\u001b[0;34m\u001b[0m\u001b[0;34m\u001b[0m\u001b[0m\n\u001b[0;32m---> 13\u001b[0;31m \u001b[0;32mfor\u001b[0m \u001b[0mpost\u001b[0m \u001b[0;32min\u001b[0m \u001b[0mchain\u001b[0m\u001b[0;34m.\u001b[0m\u001b[0mstream\u001b[0m\u001b[0;34m(\u001b[0m\u001b[0mopNames\u001b[0m\u001b[0;34m=\u001b[0m\u001b[0;34m\"comment\"\u001b[0m\u001b[0;34m,\u001b[0m \u001b[0mthreading\u001b[0m\u001b[0;34m=\u001b[0m\u001b[0;32mTrue\u001b[0m\u001b[0;34m,\u001b[0m \u001b[0mthread_num\u001b[0m\u001b[0;34m=\u001b[0m\u001b[0;36m5\u001b[0m\u001b[0;34m,\u001b[0m \u001b[0mstart\u001b[0m\u001b[0;34m=\u001b[0m\u001b[0mcurrent_num\u001b[0m\u001b[0;34m-\u001b[0m\u001b[0;36m30000\u001b[0m\u001b[0;34m,\u001b[0m \u001b[0mstop\u001b[0m\u001b[0;34m=\u001b[0m\u001b[0mcurrent_num\u001b[0m\u001b[0;34m)\u001b[0m\u001b[0;34m:\u001b[0m\u001b[0;34m\u001b[0m\u001b[0;34m\u001b[0m\u001b[0m\n\u001b[0m\u001b[1;32m     14\u001b[0m     \u001b[0mc\u001b[0m \u001b[0;34m=\u001b[0m \u001b[0mComment\u001b[0m\u001b[0;34m(\u001b[0m\u001b[0mpost\u001b[0m\u001b[0;34m)\u001b[0m\u001b[0;34m\u001b[0m\u001b[0;34m\u001b[0m\u001b[0m\n\u001b[1;32m     15\u001b[0m     \u001b[0;32mif\u001b[0m \u001b[0mc\u001b[0m\u001b[0;34m.\u001b[0m\u001b[0mis_main_post\u001b[0m\u001b[0;34m(\u001b[0m\u001b[0;34m)\u001b[0m \u001b[0;32mand\u001b[0m \u001b[0mlen\u001b[0m\u001b[0;34m(\u001b[0m\u001b[0mpost\u001b[0m\u001b[0;34m[\u001b[0m\u001b[0;34m'tags'\u001b[0m\u001b[0;34m]\u001b[0m\u001b[0;34m)\u001b[0m \u001b[0;32mand\u001b[0m \u001b[0mtracktags\u001b[0m\u001b[0;34m.\u001b[0m\u001b[0mintersection\u001b[0m\u001b[0;34m(\u001b[0m\u001b[0mpost\u001b[0m\u001b[0;34m[\u001b[0m\u001b[0;34m'tags'\u001b[0m\u001b[0;34m]\u001b[0m\u001b[0;34m)\u001b[0m\u001b[0;34m:\u001b[0m\u001b[0;34m\u001b[0m\u001b[0;34m\u001b[0m\u001b[0m\n",
      "\u001b[0;32m/data/apps/anaconda3/lib/python3.8/site-packages/beem/blockchain.py\u001b[0m in \u001b[0;36mstream\u001b[0;34m(self, opNames, raw_ops, *args, **kwargs)\u001b[0m\n\u001b[1;32m    719\u001b[0m \u001b[0;34m\u001b[0m\u001b[0m\n\u001b[1;32m    720\u001b[0m         \"\"\"\n\u001b[0;32m--> 721\u001b[0;31m         \u001b[0;32mfor\u001b[0m \u001b[0mblock\u001b[0m \u001b[0;32min\u001b[0m \u001b[0mself\u001b[0m\u001b[0;34m.\u001b[0m\u001b[0mblocks\u001b[0m\u001b[0;34m(\u001b[0m\u001b[0;34m**\u001b[0m\u001b[0mkwargs\u001b[0m\u001b[0;34m)\u001b[0m\u001b[0;34m:\u001b[0m\u001b[0;34m\u001b[0m\u001b[0;34m\u001b[0m\u001b[0m\n\u001b[0m\u001b[1;32m    722\u001b[0m             \u001b[0;32mif\u001b[0m \u001b[0;34m\"transactions\"\u001b[0m \u001b[0;32min\u001b[0m \u001b[0mblock\u001b[0m\u001b[0;34m:\u001b[0m\u001b[0;34m\u001b[0m\u001b[0;34m\u001b[0m\u001b[0m\n\u001b[1;32m    723\u001b[0m                 \u001b[0mtrx\u001b[0m \u001b[0;34m=\u001b[0m \u001b[0mblock\u001b[0m\u001b[0;34m[\u001b[0m\u001b[0;34m\"transactions\"\u001b[0m\u001b[0;34m]\u001b[0m\u001b[0;34m\u001b[0m\u001b[0;34m\u001b[0m\u001b[0m\n",
      "\u001b[0;32m/data/apps/anaconda3/lib/python3.8/site-packages/beem/blockchain.py\u001b[0m in \u001b[0;36mblocks\u001b[0;34m(self, start, stop, max_batch_size, threading, thread_num, only_ops, only_virtual_ops)\u001b[0m\n\u001b[1;32m    461\u001b[0m                     \u001b[0;32mif\u001b[0m \u001b[0mFUTURES_MODULE\u001b[0m \u001b[0;32mis\u001b[0m \u001b[0;32mnot\u001b[0m \u001b[0;32mNone\u001b[0m\u001b[0;34m:\u001b[0m\u001b[0;34m\u001b[0m\u001b[0;34m\u001b[0m\u001b[0m\n\u001b[1;32m    462\u001b[0m                         \u001b[0;32mtry\u001b[0m\u001b[0;34m:\u001b[0m\u001b[0;34m\u001b[0m\u001b[0;34m\u001b[0m\u001b[0m\n\u001b[0;32m--> 463\u001b[0;31m                             \u001b[0mresults\u001b[0m \u001b[0;34m=\u001b[0m \u001b[0;34m[\u001b[0m\u001b[0mr\u001b[0m\u001b[0;34m.\u001b[0m\u001b[0mresult\u001b[0m\u001b[0;34m(\u001b[0m\u001b[0;34m)\u001b[0m \u001b[0;32mfor\u001b[0m \u001b[0mr\u001b[0m \u001b[0;32min\u001b[0m \u001b[0mas_completed\u001b[0m\u001b[0;34m(\u001b[0m\u001b[0mfutures\u001b[0m\u001b[0;34m)\u001b[0m\u001b[0;34m]\u001b[0m\u001b[0;34m\u001b[0m\u001b[0;34m\u001b[0m\u001b[0m\n\u001b[0m\u001b[1;32m    464\u001b[0m                         \u001b[0;32mexcept\u001b[0m \u001b[0mException\u001b[0m \u001b[0;32mas\u001b[0m \u001b[0me\u001b[0m\u001b[0;34m:\u001b[0m\u001b[0;34m\u001b[0m\u001b[0;34m\u001b[0m\u001b[0m\n\u001b[1;32m    465\u001b[0m                             \u001b[0mlog\u001b[0m\u001b[0;34m.\u001b[0m\u001b[0merror\u001b[0m\u001b[0;34m(\u001b[0m\u001b[0mstr\u001b[0m\u001b[0;34m(\u001b[0m\u001b[0me\u001b[0m\u001b[0;34m)\u001b[0m\u001b[0;34m)\u001b[0m\u001b[0;34m\u001b[0m\u001b[0;34m\u001b[0m\u001b[0m\n",
      "\u001b[0;32m/data/apps/anaconda3/lib/python3.8/site-packages/beem/blockchain.py\u001b[0m in \u001b[0;36m<listcomp>\u001b[0;34m(.0)\u001b[0m\n\u001b[1;32m    461\u001b[0m                     \u001b[0;32mif\u001b[0m \u001b[0mFUTURES_MODULE\u001b[0m \u001b[0;32mis\u001b[0m \u001b[0;32mnot\u001b[0m \u001b[0;32mNone\u001b[0m\u001b[0;34m:\u001b[0m\u001b[0;34m\u001b[0m\u001b[0;34m\u001b[0m\u001b[0m\n\u001b[1;32m    462\u001b[0m                         \u001b[0;32mtry\u001b[0m\u001b[0;34m:\u001b[0m\u001b[0;34m\u001b[0m\u001b[0;34m\u001b[0m\u001b[0m\n\u001b[0;32m--> 463\u001b[0;31m                             \u001b[0mresults\u001b[0m \u001b[0;34m=\u001b[0m \u001b[0;34m[\u001b[0m\u001b[0mr\u001b[0m\u001b[0;34m.\u001b[0m\u001b[0mresult\u001b[0m\u001b[0;34m(\u001b[0m\u001b[0;34m)\u001b[0m \u001b[0;32mfor\u001b[0m \u001b[0mr\u001b[0m \u001b[0;32min\u001b[0m \u001b[0mas_completed\u001b[0m\u001b[0;34m(\u001b[0m\u001b[0mfutures\u001b[0m\u001b[0;34m)\u001b[0m\u001b[0;34m]\u001b[0m\u001b[0;34m\u001b[0m\u001b[0;34m\u001b[0m\u001b[0m\n\u001b[0m\u001b[1;32m    464\u001b[0m                         \u001b[0;32mexcept\u001b[0m \u001b[0mException\u001b[0m \u001b[0;32mas\u001b[0m \u001b[0me\u001b[0m\u001b[0;34m:\u001b[0m\u001b[0;34m\u001b[0m\u001b[0;34m\u001b[0m\u001b[0m\n\u001b[1;32m    465\u001b[0m                             \u001b[0mlog\u001b[0m\u001b[0;34m.\u001b[0m\u001b[0merror\u001b[0m\u001b[0;34m(\u001b[0m\u001b[0mstr\u001b[0m\u001b[0;34m(\u001b[0m\u001b[0me\u001b[0m\u001b[0;34m)\u001b[0m\u001b[0;34m)\u001b[0m\u001b[0;34m\u001b[0m\u001b[0;34m\u001b[0m\u001b[0m\n",
      "\u001b[0;32m/data/apps/anaconda3/lib/python3.8/concurrent/futures/_base.py\u001b[0m in \u001b[0;36mas_completed\u001b[0;34m(fs, timeout)\u001b[0m\n\u001b[1;32m    242\u001b[0m                             len(pending), total_futures))\n\u001b[1;32m    243\u001b[0m \u001b[0;34m\u001b[0m\u001b[0m\n\u001b[0;32m--> 244\u001b[0;31m             \u001b[0mwaiter\u001b[0m\u001b[0;34m.\u001b[0m\u001b[0mevent\u001b[0m\u001b[0;34m.\u001b[0m\u001b[0mwait\u001b[0m\u001b[0;34m(\u001b[0m\u001b[0mwait_timeout\u001b[0m\u001b[0;34m)\u001b[0m\u001b[0;34m\u001b[0m\u001b[0;34m\u001b[0m\u001b[0m\n\u001b[0m\u001b[1;32m    245\u001b[0m \u001b[0;34m\u001b[0m\u001b[0m\n\u001b[1;32m    246\u001b[0m             \u001b[0;32mwith\u001b[0m \u001b[0mwaiter\u001b[0m\u001b[0;34m.\u001b[0m\u001b[0mlock\u001b[0m\u001b[0;34m:\u001b[0m\u001b[0;34m\u001b[0m\u001b[0;34m\u001b[0m\u001b[0m\n",
      "\u001b[0;32m/data/apps/anaconda3/lib/python3.8/threading.py\u001b[0m in \u001b[0;36mwait\u001b[0;34m(self, timeout)\u001b[0m\n\u001b[1;32m    556\u001b[0m             \u001b[0msignaled\u001b[0m \u001b[0;34m=\u001b[0m \u001b[0mself\u001b[0m\u001b[0;34m.\u001b[0m\u001b[0m_flag\u001b[0m\u001b[0;34m\u001b[0m\u001b[0;34m\u001b[0m\u001b[0m\n\u001b[1;32m    557\u001b[0m             \u001b[0;32mif\u001b[0m \u001b[0;32mnot\u001b[0m \u001b[0msignaled\u001b[0m\u001b[0;34m:\u001b[0m\u001b[0;34m\u001b[0m\u001b[0;34m\u001b[0m\u001b[0m\n\u001b[0;32m--> 558\u001b[0;31m                 \u001b[0msignaled\u001b[0m \u001b[0;34m=\u001b[0m \u001b[0mself\u001b[0m\u001b[0;34m.\u001b[0m\u001b[0m_cond\u001b[0m\u001b[0;34m.\u001b[0m\u001b[0mwait\u001b[0m\u001b[0;34m(\u001b[0m\u001b[0mtimeout\u001b[0m\u001b[0;34m)\u001b[0m\u001b[0;34m\u001b[0m\u001b[0;34m\u001b[0m\u001b[0m\n\u001b[0m\u001b[1;32m    559\u001b[0m             \u001b[0;32mreturn\u001b[0m \u001b[0msignaled\u001b[0m\u001b[0;34m\u001b[0m\u001b[0;34m\u001b[0m\u001b[0m\n\u001b[1;32m    560\u001b[0m \u001b[0;34m\u001b[0m\u001b[0m\n",
      "\u001b[0;32m/data/apps/anaconda3/lib/python3.8/threading.py\u001b[0m in \u001b[0;36mwait\u001b[0;34m(self, timeout)\u001b[0m\n\u001b[1;32m    300\u001b[0m         \u001b[0;32mtry\u001b[0m\u001b[0;34m:\u001b[0m    \u001b[0;31m# restore state no matter what (e.g., KeyboardInterrupt)\u001b[0m\u001b[0;34m\u001b[0m\u001b[0;34m\u001b[0m\u001b[0m\n\u001b[1;32m    301\u001b[0m             \u001b[0;32mif\u001b[0m \u001b[0mtimeout\u001b[0m \u001b[0;32mis\u001b[0m \u001b[0;32mNone\u001b[0m\u001b[0;34m:\u001b[0m\u001b[0;34m\u001b[0m\u001b[0;34m\u001b[0m\u001b[0m\n\u001b[0;32m--> 302\u001b[0;31m                 \u001b[0mwaiter\u001b[0m\u001b[0;34m.\u001b[0m\u001b[0macquire\u001b[0m\u001b[0;34m(\u001b[0m\u001b[0;34m)\u001b[0m\u001b[0;34m\u001b[0m\u001b[0;34m\u001b[0m\u001b[0m\n\u001b[0m\u001b[1;32m    303\u001b[0m                 \u001b[0mgotit\u001b[0m \u001b[0;34m=\u001b[0m \u001b[0;32mTrue\u001b[0m\u001b[0;34m\u001b[0m\u001b[0;34m\u001b[0m\u001b[0m\n\u001b[1;32m    304\u001b[0m             \u001b[0;32melse\u001b[0m\u001b[0;34m:\u001b[0m\u001b[0;34m\u001b[0m\u001b[0;34m\u001b[0m\u001b[0m\n",
      "\u001b[0;31mKeyboardInterrupt\u001b[0m: "
     ]
    }
   ],
   "source": [
    "from beem import Hive\n",
    "from beem.account import Account\n",
    "from beem.amount import Amount\n",
    "from beem.blockchain import Blockchain\n",
    "from beem.comment import Comment\n",
    "from beem.instance import set_shared_blockchain_instance\n",
    "\n",
    "tracktags = set(['teamuk','england','scotland','wales','unitedkingdom','greatbritain','uk'])\n",
    "hive = Hive(node=['https://anyx.io'])#https://hived.emre.sh'])#https://api.deathwing.me', 'https://api.hive.blog'])\n",
    "set_shared_blockchain_instance(hive)\n",
    "chain = Blockchain()\n",
    "current_num = chain.get_current_block_num()\n",
    "for post in chain.stream(opNames=\"comment\", threading=True, thread_num=5, start=current_num-30000, stop=current_num):\n",
    "    c = Comment(post)\n",
    "    if c.is_main_post() and len(post['tags']) and tracktags.intersection(post['tags']):\n",
    "        author = post['author']\n",
    "        if author not in u and author not in ignore:\n",
    "            print(author,post['title'],post['tags'])"
   ]
  },
  {
   "cell_type": "code",
   "execution_count": 11,
   "metadata": {},
   "outputs": [
    {
     "data": {
      "text/plain": [
       "False"
      ]
     },
     "execution_count": 11,
     "metadata": {},
     "output_type": "execute_result"
    }
   ],
   "source": [
    "'annasworddancer' in u"
   ]
  },
  {
   "cell_type": "code",
   "execution_count": 6,
   "metadata": {},
   "outputs": [
    {
     "name": "stdout",
     "output_type": "stream",
     "text": [
      "Minnow 574.402\n",
      "Dolphin 5744.019\n",
      "Orca 57440.192\n",
      "Whale 574401.916\n"
     ]
    }
   ],
   "source": [
    "from beem import Hive\n",
    "from beem.account import Account\n",
    "from beem.amount import Amount\n",
    "from beem.blockchain import Blockchain\n",
    "from beem.comment import Comment\n",
    "import beem.witness\n",
    "from beem.instance import set_shared_blockchain_instance\n",
    "\n",
    "hive = Hive(node=['https://anyx.io'])\n",
    "print(f'Minnow {hive.vests_to_hp(1E6):.3f}')\n",
    "print(f'Dolphin {hive.vests_to_hp(1E7):.3f}')\n",
    "print(f'Orca {hive.vests_to_hp(1E8):.3f}')\n",
    "print(f'Whale {hive.vests_to_hp(1E9):.3f}')\n"
   ]
  },
  {
   "cell_type": "code",
   "execution_count": 16,
   "metadata": {},
   "outputs": [
    {
     "name": "stderr",
     "output_type": "stream",
     "text": [
      "Error: Request Timeout\n",
      "Retry RPC Call on node: https://api.hive.blog (1/5) \n",
      "\n",
      "Retrying in 0 seconds\n",
      "\n",
      "Error: Request Timeout\n",
      "Retry RPC Call on node: https://api.hive.blog (1/5) \n",
      "\n",
      "Retrying in 0 seconds\n",
      "\n",
      "Error: Request Timeout\n",
      "Retry RPC Call on node: https://api.hive.blog (1/5) \n",
      "\n",
      "Retrying in 0 seconds\n",
      "\n"
     ]
    },
    {
     "name": "stdout",
     "output_type": "stream",
     "text": [
      "assassyn\n"
     ]
    },
    {
     "name": "stderr",
     "output_type": "stream",
     "text": [
      "Error: Request Timeout\n",
      "Retry RPC Call on node: https://api.hive.blog (1/5) \n",
      "\n",
      "Retrying in 0 seconds\n",
      "\n",
      "Error: Request Timeout\n",
      "Retry RPC Call on node: https://api.hive.blog (1/5) \n",
      "\n",
      "Retrying in 0 seconds\n",
      "\n",
      "Error: Request Timeout\n",
      "Retry RPC Call on node: https://api.hive.blog (1/5) \n",
      "\n",
      "Retrying in 0 seconds\n",
      "\n",
      "Error: Request Timeout\n",
      "Retry RPC Call on node: https://api.hive.blog (1/5) \n",
      "\n",
      "Retrying in 0 seconds\n",
      "\n",
      "Error: Request Timeout\n",
      "Retry RPC Call on node: https://api.hive.blog (1/5) \n",
      "\n",
      "Retrying in 0 seconds\n",
      "\n"
     ]
    },
    {
     "name": "stdout",
     "output_type": "stream",
     "text": [
      "liketu\n",
      "markangeltrueman\n",
      "nathanmars\n"
     ]
    },
    {
     "name": "stderr",
     "output_type": "stream",
     "text": [
      "Error: Request Timeout\n",
      "Retry RPC Call on node: https://api.hive.blog (1/5) \n",
      "\n",
      "Retrying in 0 seconds\n",
      "\n",
      "Error: Request Timeout\n",
      "Retry RPC Call on node: https://api.hive.blog (1/5) \n",
      "\n",
      "Retrying in 0 seconds\n",
      "\n",
      "Error: Request Timeout\n",
      "Retry RPC Call on node: https://api.hive.blog (1/5) \n",
      "\n",
      "Retrying in 0 seconds\n",
      "\n"
     ]
    },
    {
     "name": "stdout",
     "output_type": "stream",
     "text": [
      "ura-soul\n"
     ]
    },
    {
     "name": "stderr",
     "output_type": "stream",
     "text": [
      "Error: Request Timeout\n",
      "Retry RPC Call on node: https://api.hive.blog (1/5) \n",
      "\n",
      "Retrying in 0 seconds\n",
      "\n",
      "Error: Request Timeout\n",
      "Retry RPC Call on node: https://api.hive.blog (1/5) \n",
      "\n",
      "Retrying in 0 seconds\n",
      "\n",
      "Error: Request Timeout\n",
      "Retry RPC Call on node: https://api.hive.blog (1/5) \n",
      "\n",
      "Retrying in 0 seconds\n",
      "\n",
      "Error: Request Timeout\n",
      "Retry RPC Call on node: https://api.hive.blog (1/5) \n",
      "\n",
      "Retrying in 0 seconds\n",
      "\n",
      "Error: Request Timeout\n",
      "Retry RPC Call on node: https://api.hive.blog (1/5) \n",
      "\n",
      "Retrying in 0 seconds\n",
      "\n",
      "Error: Request Timeout\n",
      "Retry RPC Call on node: https://api.hive.blog (1/5) \n",
      "\n",
      "Retrying in 0 seconds\n",
      "\n"
     ]
    },
    {
     "name": "stdout",
     "output_type": "stream",
     "text": [
      "shmoogleosukami\n"
     ]
    },
    {
     "name": "stderr",
     "output_type": "stream",
     "text": [
      "Error: Request Timeout\n",
      "Retry RPC Call on node: https://api.hive.blog (1/5) \n",
      "\n",
      "Retrying in 0 seconds\n",
      "\n"
     ]
    },
    {
     "name": "stdout",
     "output_type": "stream",
     "text": [
      "c0ff33a\n",
      "whiterosecoffee\n",
      "chisdealhd\n",
      "alloyxuast\n",
      "demotruk\n",
      "pcste\n",
      "someguy123\n"
     ]
    },
    {
     "name": "stderr",
     "output_type": "stream",
     "text": [
      "Error: Request Timeout\n",
      "Retry RPC Call on node: https://api.hive.blog (1/5) \n",
      "\n",
      "Retrying in 0 seconds\n",
      "\n",
      "Error: Request Timeout\n",
      "Retry RPC Call on node: https://api.hive.blog (1/5) \n",
      "\n",
      "Retrying in 0 seconds\n",
      "\n",
      "Error: Request Timeout\n",
      "Retry RPC Call on node: https://api.hive.blog (1/5) \n",
      "\n",
      "Retrying in 0 seconds\n",
      "\n"
     ]
    },
    {
     "name": "stdout",
     "output_type": "stream",
     "text": [
      "btcvenom\n",
      "cadawg\n"
     ]
    },
    {
     "name": "stderr",
     "output_type": "stream",
     "text": [
      "Error: Request Timeout\n",
      "Retry RPC Call on node: https://api.hive.blog (1/5) \n",
      "\n",
      "Retrying in 0 seconds\n",
      "\n",
      "Error: Request Timeout\n",
      "Retry RPC Call on node: https://api.hive.blog (1/5) \n",
      "\n",
      "Retrying in 0 seconds\n",
      "\n",
      "Error: Request Timeout\n",
      "Retry RPC Call on node: https://api.hive.blog (1/5) \n",
      "\n",
      "Retrying in 0 seconds\n",
      "\n",
      "Error: Request Timeout\n",
      "Retry RPC Call on node: https://api.hive.blog (1/5) \n",
      "\n",
      "Retrying in 0 seconds\n",
      "\n",
      "Error: Request Timeout\n",
      "Retry RPC Call on node: https://api.hive.blog (1/5) \n",
      "\n",
      "Retrying in 0 seconds\n",
      "\n",
      "Error: Request Timeout\n",
      "Retry RPC Call on node: https://api.hive.blog (1/5) \n",
      "\n",
      "Retrying in 0 seconds\n",
      "\n",
      "Error: Request Timeout\n",
      "Retry RPC Call on node: https://api.hive.blog (1/5) \n",
      "\n",
      "Retrying in 0 seconds\n",
      "\n"
     ]
    },
    {
     "name": "stdout",
     "output_type": "stream",
     "text": [
      "brofund\n"
     ]
    },
    {
     "name": "stderr",
     "output_type": "stream",
     "text": [
      "Error: Request Timeout\n",
      "Retry RPC Call on node: https://api.hive.blog (1/5) \n",
      "\n",
      "Retrying in 0 seconds\n",
      "\n",
      "Error: Request Timeout\n",
      "Retry RPC Call on node: https://api.hive.blog (1/5) \n",
      "\n",
      "Retrying in 0 seconds\n",
      "\n",
      "Error: Request Timeout\n",
      "Retry RPC Call on node: https://api.hive.blog (1/5) \n",
      "\n",
      "Retrying in 0 seconds\n",
      "\n",
      "Error: Request Timeout\n",
      "Retry RPC Call on node: https://api.hive.blog (1/5) \n",
      "\n",
      "Retrying in 0 seconds\n",
      "\n",
      "Error: Request Timeout\n",
      "Retry RPC Call on node: https://api.hive.blog (1/5) \n",
      "\n",
      "Retrying in 0 seconds\n",
      "\n",
      "Error: Request Timeout\n",
      "Retry RPC Call on node: https://api.hive.blog (1/5) \n",
      "\n",
      "Retrying in 0 seconds\n",
      "\n",
      "Error: Request Timeout\n",
      "Retry RPC Call on node: https://api.hive.blog (1/5) \n",
      "\n",
      "Retrying in 0 seconds\n",
      "\n"
     ]
    },
    {
     "name": "stdout",
     "output_type": "stream",
     "text": [
      "gmuxx\n"
     ]
    },
    {
     "name": "stderr",
     "output_type": "stream",
     "text": [
      "Error: Request Timeout\n",
      "Retry RPC Call on node: https://api.hive.blog (1/5) \n",
      "\n",
      "Retrying in 0 seconds\n",
      "\n",
      "Error: Request Timeout\n",
      "Retry RPC Call on node: https://api.hive.blog (1/5) \n",
      "\n",
      "Retrying in 0 seconds\n",
      "\n"
     ]
    },
    {
     "name": "stdout",
     "output_type": "stream",
     "text": [
      "pjau\n",
      "tobias-g\n",
      "rycharde\n"
     ]
    },
    {
     "name": "stderr",
     "output_type": "stream",
     "text": [
      "Error: Request Timeout\n",
      "Retry RPC Call on node: https://api.hive.blog (1/5) \n",
      "\n",
      "Retrying in 0 seconds\n",
      "\n"
     ]
    },
    {
     "name": "stdout",
     "output_type": "stream",
     "text": [
      "ctrpch\n"
     ]
    },
    {
     "name": "stderr",
     "output_type": "stream",
     "text": [
      "Error: Request Timeout\n",
      "Retry RPC Call on node: https://api.hive.blog (1/5) \n",
      "\n",
      "Retrying in 0 seconds\n",
      "\n",
      "Error: Request Timeout\n",
      "Retry RPC Call on node: https://api.hive.blog (1/5) \n",
      "\n",
      "Retrying in 0 seconds\n",
      "\n"
     ]
    },
    {
     "name": "stdout",
     "output_type": "stream",
     "text": [
      "['@assassyn', '@liketu', '@markangeltrueman', '@nathanmars', '@ura-soul', '@shmoogleosukami', '@c0ff33a', '@whiterosecoffee', '@chisdealhd', '@alloyxuast', '@demotruk', '@pcste', '@someguy123', '@btcvenom', '@cadawg', '@brofund', '@gmuxx', '@pjau', '@tobias-g', '@rycharde', '@ctrpch']\n"
     ]
    }
   ],
   "source": [
    "w=[]\n",
    "for i in u:\n",
    "    if len(beem.witness.GetWitnesses([i])):\n",
    "        w.append(f'@{i}')\n",
    "        print(i)\n",
    "print(w)"
   ]
  },
  {
   "cell_type": "code",
   "execution_count": 21,
   "metadata": {},
   "outputs": [
    {
     "name": "stdout",
     "output_type": "stream",
     "text": [
      "['elmerlin', 'liketu']\n"
     ]
    }
   ],
   "source": [
    "l='elmerlin (London @liketu)'\n",
    "unames = []\n",
    "if '@' in l:\n",
    "    unames.append(l.split()[0])\n",
    "    l = l[l.find('@'):]\n",
    "    unames += l.strip().replace('(', '').replace(')', '').replace('@', '').split()\n",
    "elif '(' in l:\n",
    "    unames.append(l.split()[0])\n",
    "else:\n",
    "    unames.append(l.strip())\n",
    "print(unames)\n"
   ]
  },
  {
   "cell_type": "code",
   "execution_count": null,
   "metadata": {},
   "outputs": [],
   "source": []
  }
 ],
 "metadata": {
  "kernelspec": {
   "display_name": "Python 3",
   "language": "python",
   "name": "python3"
  },
  "language_info": {
   "codemirror_mode": {
    "name": "ipython",
    "version": 3
   },
   "file_extension": ".py",
   "mimetype": "text/x-python",
   "name": "python",
   "nbconvert_exporter": "python",
   "pygments_lexer": "ipython3",
   "version": "3.8.5"
  }
 },
 "nbformat": 4,
 "nbformat_minor": 4
}
